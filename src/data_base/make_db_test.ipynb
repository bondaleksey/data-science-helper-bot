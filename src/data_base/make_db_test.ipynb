{
 "cells": [
  {
   "cell_type": "code",
   "execution_count": 3,
   "metadata": {},
   "outputs": [],
   "source": [
    "from os import listdir\n",
    "from os.path import isfile, join\n",
    "import pandas as pd\n",
    "import sqlite3 as sq"
   ]
  },
  {
   "cell_type": "code",
   "execution_count": 4,
   "metadata": {},
   "outputs": [
    {
     "name": "stdout",
     "output_type": "stream",
     "text": [
      "['QA_Algorithms.xlsx', 'QA_SQL.xlsx']\n",
      "QA_Algorithms.xlsx\n",
      "QA_SQL.xlsx\n"
     ]
    }
   ],
   "source": [
    "# print(listdir('../../data'))\n",
    "mypath = '../../data'\n",
    "files = [f for f in listdir(mypath) if isfile(join(mypath,f))]\n",
    "print(files)\n",
    "for filename in files:\n",
    "    print(filename)"
   ]
  },
  {
   "cell_type": "code",
   "execution_count": 5,
   "metadata": {},
   "outputs": [
    {
     "name": "stdout",
     "output_type": "stream",
     "text": [
      "    lod     subtopik                                           question  \\\n",
      "0     1      массивы                                        что такое …   \n",
      "1     2         стек                                        что такое …   \n",
      "2     2     очередь                                         что такое …   \n",
      "3     2       списки                                        что такое …   \n",
      "4     3    множество                                        что такое …   \n",
      "5     5  хэш-таблица                                        что такое …   \n",
      "6     5      деревья                                        что такое …   \n",
      "7     3    сложность                  оценка скорости работы алгоритмов   \n",
      "8     3    сложность                    Что такое: \"О большое\" (Big O)    \n",
      "9     3    сложность  Правила \"вычисления\"\\nO(n+C) = ?\\nO(A*n) = ?\\n...   \n",
      "10    3    сложность  Правила сравнения\\nO(n) vs O(2*n+10)\\n vs O(lo...   \n",
      "11    3    сложность  Какова сложность выполнения алгоритма:\\nlst = ...   \n",
      "12    3    сложность  Правило сложения.\\nчто будет, если перебираютс...   \n",
      "13    3    сложность  Правило умножения.\\nчто будет, если мы один ци...   \n",
      "14    3    сложность                 примеры оценок временной сложности   \n",
      "15    3    сложность                       Правила сложения и умножения   \n",
      "16    3    сложность  Здесь n, m - некоторые переменные с натуральны...   \n",
      "17    3    сложность  О большое (Big O). Случаи логарифмической и фа...   \n",
      "18    3    сложность  Здесь n, m - некоторые переменные с натуральны...   \n",
      "19    3    сложность  Выберите правильный вариант упрощения записи B...   \n",
      "20    3    сложность  Какие слагаемые считать значимыми, а какие не ...   \n",
      "21    3    сложность  Приведите примеры алгоритмов с логарифмической...   \n",
      "22    3    сложность  Приведите примеры алгоритмов с факториальной с...   \n",
      "23    3    сложность  Какова вычислительная сложность этой программы...   \n",
      "24    3    сложность  Имеется следующая программа на языке Python, в...   \n",
      "25    3    сложность  Вы решили взломать (подобрать) пароль, состоящ...   \n",
      "26    3    сложность  Имеется запись выражения для Big O в виде:\\n\\n...   \n",
      "\n",
      "                                               answer  \n",
      "0                                             ответ 1  \n",
      "1                                             ответ 2  \n",
      "2                                             ответ 3  \n",
      "3                                             ответ 4  \n",
      "4                                             ответ 5  \n",
      "5                                             ответ 6  \n",
      "6                                             ответ 7  \n",
      "7   как оценивать и сравнивать между собой скорост...  \n",
      "8   верхняя граница динамики изменения вычислитель...  \n",
      "9   любые константы отбрасываются из нотации О бол...  \n",
      "10  любые константы отбрасываются из нотации О бол...  \n",
      "11  Формально, можно записать так:\\n\\nO(1) + O(n) ...  \n",
      "12  Вычислительная сложность алгоритма с точки зре...  \n",
      "13  то объем вычислений в нотации О большого приме...  \n",
      "14  O(1) - для команд, выполняющихся за фиксирован...  \n",
      "15   O(n+m) - при последовательной записи команд с...  \n",
      "16                                           O(n * m)  \n",
      "17  Лекция 2 курса self-edu \\n\\nlink: https://prop...  \n",
      "18             O(m), если m >= n\\n\\nO(n), если n >= m  \n",
      "19                                             O(2^n)  \n",
      "20  Полагают, если одно слагаемое может принимать ...  \n",
      "21  Яркий представитель – бинарный поиск.\\nТам, гд...  \n",
      "22  то, так называемые, NP-полные задачи, в которы...  \n",
      "23                                             O(n^2)  \n",
      "24                                             O(n^3)  \n",
      "25                                            O(73^k)  \n",
      "26                                   нельзя упростить  \n"
     ]
    }
   ],
   "source": [
    "filename = files[0]\n",
    "\n",
    "dataframe1 = pd.read_excel(join(mypath,filename))\n",
    "\n",
    "print(dataframe1)"
   ]
  },
  {
   "cell_type": "code",
   "execution_count": 9,
   "metadata": {},
   "outputs": [
    {
     "data": {
      "text/plain": [
       "Index(['lod', 'subtopik', 'question', 'answer'], dtype='object')"
      ]
     },
     "execution_count": 9,
     "metadata": {},
     "output_type": "execute_result"
    }
   ],
   "source": [
    "dataframe1.columns"
   ]
  },
  {
   "cell_type": "code",
   "execution_count": 6,
   "metadata": {},
   "outputs": [
    {
     "name": "stdout",
     "output_type": "stream",
     "text": [
      "../../data\\QA.db\n"
     ]
    }
   ],
   "source": [
    "# создать курсор БД и создать таблицу \n",
    "\n",
    "db_file_name = join(mypath,\"QA.db\")\n",
    "print(db_file_name)"
   ]
  },
  {
   "cell_type": "markdown",
   "metadata": {},
   "source": [
    "Информация о том как перобразовать Датафрейм в sqlite\n",
    "[dataFrame_to_sql][1]\n",
    "\n",
    "[1]: https://pandas.pydata.org/pandas-docs/stable/reference/api/pandas.DataFrame.to_sql.html"
   ]
  },
  {
   "cell_type": "code",
   "execution_count": 16,
   "metadata": {},
   "outputs": [],
   "source": [
    "# algoritm_id INTEGER PRIMARY KEY,\n",
    "with sq.connect(db_file_name) as con:\n",
    "    cur = con.cursor()\n",
    "    cur.execute(\"\"\"DROP TABLE IF EXISTS algorithms\"\"\")\n",
    "    cur.execute(\"\"\"CREATE TABLE IF NOT EXISTS algorithms (        \n",
    "        algoritm_id INTEGER PRIMARY KEY,\n",
    "        lod INTEGER NOT NULL DEFAULT 1,\n",
    "        subtopik TEXT NOT NULL,\n",
    "        question TEXT NOT NULL,\n",
    "        answer TEXT NOT NULL       \n",
    "    )\"\"\")\n",
    "    dataframe1.to_sql('algorithms', con = con, if_exists='append',index = False,\n",
    "                      dtype = {'lod':'INTEGER',\n",
    "                               'subtopik': 'TEXT',\n",
    "                               'question':'TEXT',\n",
    "                               'answer':'TEXT',} )\n",
    "    "
   ]
  },
  {
   "cell_type": "code",
   "execution_count": null,
   "metadata": {},
   "outputs": [],
   "source": []
  },
  {
   "cell_type": "code",
   "execution_count": null,
   "metadata": {},
   "outputs": [],
   "source": []
  },
  {
   "cell_type": "code",
   "execution_count": null,
   "metadata": {},
   "outputs": [],
   "source": []
  }
 ],
 "metadata": {
  "kernelspec": {
   "display_name": "venv",
   "language": "python",
   "name": "python3"
  },
  "language_info": {
   "codemirror_mode": {
    "name": "ipython",
    "version": 3
   },
   "file_extension": ".py",
   "mimetype": "text/x-python",
   "name": "python",
   "nbconvert_exporter": "python",
   "pygments_lexer": "ipython3",
   "version": "3.11.9"
  }
 },
 "nbformat": 4,
 "nbformat_minor": 2
}
